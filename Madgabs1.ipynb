{
 "cells": [
  {
   "cell_type": "code",
   "execution_count": 33,
   "metadata": {
    "collapsed": true
   },
   "outputs": [],
   "source": [
    "import nltk\n",
    "from nltk.corpus import cmudict, wordnet\n",
    "from nltk.tokenize import word_tokenize, wordpunct_tokenize\n",
    "import pprint\n",
    "import itertools\n",
    "import copy"
   ]
  },
  {
   "cell_type": "code",
   "execution_count": 36,
   "metadata": {
    "collapsed": false
   },
   "outputs": [
    {
     "name": "stdout",
     "output_type": "stream",
     "text": [
      "[nltk_data] Downloading package cmudict to /home/ds/nltk_data...\n",
      "[nltk_data]   Package cmudict is already up-to-date!\n",
      "[nltk_data] Downloading package wordnet to /home/ds/nltk_data...\n",
      "[nltk_data]   Package wordnet is already up-to-date!\n"
     ]
    },
    {
     "data": {
      "text/plain": [
       "True"
      ]
     },
     "execution_count": 36,
     "metadata": {},
     "output_type": "execute_result"
    }
   ],
   "source": [
    "nltk.download(\"cmudict\")\n",
    "nltk.download(\"wordnet\")"
   ]
  },
  {
   "cell_type": "code",
   "execution_count": 34,
   "metadata": {
    "collapsed": true
   },
   "outputs": [],
   "source": [
    "pp = pprint.PrettyPrinter(indent=4)\n",
    "\n",
    "VOWELS = ['A', 'E', 'I', 'O', 'U']\n",
    "NUMBER_CHOICES = [0, 1]\n",
    "\n",
    "input1 = \"eye mull of mush sheen\"\n",
    "output1 = \"i'm a love machine\""
   ]
  },
  {
   "cell_type": "code",
   "execution_count": 35,
   "metadata": {
    "collapsed": true
   },
   "outputs": [],
   "source": [
    "def tokenize_sentence(sentence):\n",
    "    return sentence.split()\n",
    "\n",
    "\n",
    "def get_syllables(w):\n",
    "    return [pron for (word, pron) in cmudict.entries() if word == w]\n",
    "\n",
    "\n",
    "def get_syllables_of_sentence(sentence):\n",
    "    return [get_syllables(word) for word in sentence]"
   ]
  },
  {
   "cell_type": "code",
   "execution_count": 37,
   "metadata": {
    "collapsed": true
   },
   "outputs": [],
   "source": [
    "def possible_pronunciations(syllables):\n",
    "    pronunciations = [t for t in itertools.product(*syllables)]\n",
    "    outer = []\n",
    "    for pronunciation in pronunciations:\n",
    "        inner = []\n",
    "        for word in pronunciation:\n",
    "            inner += word\n",
    "        outer += [inner]\n",
    "    return outer"
   ]
  },
  {
   "cell_type": "code",
   "execution_count": 38,
   "metadata": {
    "collapsed": true
   },
   "outputs": [],
   "source": [
    "def post_processing(pronunciations):\n",
    "    # turn AH0 -> [AH0, AH1, EH0, EH1, IH0, IH1, OH0, OH1, UH0, UH1]\n",
    "    # two or more of a sound gets knocked off [SH, SH] -> [[SH, ''], [SH]]\n",
    "    #                                           ->[[SH, SH], ['', SH]]\n",
    "    # turn B -> [B]\n",
    "    # then do cartesian product to build all possible strings\n",
    "    copy_of_pronunciations = copy.deepcopy(pronunciations)\n",
    "    for pronunciation in pronunciations:\n",
    "        for sound_loc in range(len(pronunciation)):\n",
    "            sound = pronunciation[sound_loc]\n",
    "            if sound_loc + 1 < len(pronunciation) \\\n",
    "                    and pronunciation[sound_loc + 1] == pronunciation[sound_loc]:\n",
    "                deal_with_duplicates(pronunciation, sound_loc)\n",
    "            if pronunciation[sound_loc][0] in VOWELS:\n",
    "                deal_with_vowels(pronunciation, sound_loc)\n",
    "            if pronunciation[sound_loc] == sound:\n",
    "                pronunciation[sound_loc] = [pronunciation[sound_loc]]\n",
    "        copy_of_pronunciations += itertools.product(*pronunciation)\n",
    "    return copy_of_pronunciations"
   ]
  },
  {
   "cell_type": "code",
   "execution_count": 39,
   "metadata": {
    "collapsed": true
   },
   "outputs": [],
   "source": [
    "def deal_with_duplicates(pronunciation, sound_loc):\n",
    "    pronunciation[sound_loc] = [pronunciation[sound_loc], '']\n",
    "\n",
    "\n",
    "def deal_with_vowels(pronunciation, sound_loc):\n",
    "    middle_letter = pronunciation[sound_loc][1]\n",
    "    pronunciation[sound_loc] = [vowel + middle_letter + str(number)\n",
    "                                for vowel in VOWELS\n",
    "                                for number in NUMBER_CHOICES]"
   ]
  },
  {
   "cell_type": "code",
   "execution_count": 40,
   "metadata": {
    "collapsed": true
   },
   "outputs": [],
   "source": [
    "def remove_empty_quotes(pronunciations):\n",
    "    # exists to remove empty quotes in pronunciations\n",
    "    # turn [[SH, SH], ['', SH]] -> [[SH, SH], [SH]]\n",
    "    for pronunciation_loc in range(len(pronunciations)):\n",
    "        pronunciation = pronunciations[pronunciation_loc]\n",
    "        pronunciations[pronunciation_loc] = [sound\n",
    "                                             for sound in pronunciation\n",
    "                                             if sound != '']\n",
    "    return pronunciations"
   ]
  },
  {
   "cell_type": "code",
   "execution_count": 41,
   "metadata": {
    "collapsed": true
   },
   "outputs": [],
   "source": [
    "def do_two_strings_match(input_pronunciations, output_pronunciations):\n",
    "    return any(output_pronunciation == list(input_pronunciation)\n",
    "               for input_pronunciation in input_pronunciations\n",
    "               for output_pronunciation in output_pronunciations)"
   ]
  },
  {
   "cell_type": "code",
   "execution_count": 42,
   "metadata": {
    "collapsed": true
   },
   "outputs": [],
   "source": [
    "input1_syllables = get_syllables_of_sentence(tokenize_sentence(input1))\n",
    "output1_syllables = get_syllables_of_sentence(tokenize_sentence(output1))"
   ]
  },
  {
   "cell_type": "code",
   "execution_count": 43,
   "metadata": {
    "collapsed": false
   },
   "outputs": [],
   "source": [
    "input_pronunciations = remove_empty_quotes(\n",
    "        post_processing(\n",
    "            possible_pronunciations(input1_syllables)))\n",
    "prettied_input_pronunciations = set([tuple(x) for x in input_pronunciations])\n",
    "output_pronunciations = possible_pronunciations(output1_syllables)"
   ]
  },
  {
   "cell_type": "code",
   "execution_count": 44,
   "metadata": {
    "collapsed": false
   },
   "outputs": [
    {
     "data": {
      "text/plain": [
       "True"
      ]
     },
     "execution_count": 44,
     "metadata": {},
     "output_type": "execute_result"
    }
   ],
   "source": [
    "do_two_strings_match(prettied_input_pronunciations, output_pronunciations)"
   ]
  },
  {
   "cell_type": "code",
   "execution_count": null,
   "metadata": {
    "collapsed": true
   },
   "outputs": [],
   "source": []
  }
 ],
 "metadata": {
  "kernelspec": {
   "display_name": "Python 3",
   "language": "python",
   "name": "python3"
  },
  "language_info": {
   "codemirror_mode": {
    "name": "ipython",
    "version": 3
   },
   "file_extension": ".py",
   "mimetype": "text/x-python",
   "name": "python",
   "nbconvert_exporter": "python",
   "pygments_lexer": "ipython3",
   "version": "3.4.3"
  }
 },
 "nbformat": 4,
 "nbformat_minor": 0
}
