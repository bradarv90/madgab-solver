{
 "cells": [
  {
   "cell_type": "code",
   "execution_count": 8,
   "metadata": {
    "collapsed": true
   },
   "outputs": [],
   "source": [
    "import nltk\n",
    "from nltk.corpus import cmudict, wordnet\n",
    "from nltk.tokenize import word_tokenize, wordpunct_tokenize\n",
    "\n",
    "from itertools import groupby\n",
    "import itertools\n",
    "\n",
    "from collections import defaultdict\n",
    "import collections\n",
    "\n",
    "import json\n",
    "import pprint\n",
    "\n",
    "import copy\n",
    "from functools import reduce"
   ]
  },
  {
   "cell_type": "code",
   "execution_count": 9,
   "metadata": {
    "collapsed": false
   },
   "outputs": [
    {
     "name": "stdout",
     "output_type": "stream",
     "text": [
      "[nltk_data] Downloading package cmudict to /home/ds/nltk_data...\n",
      "[nltk_data]   Package cmudict is already up-to-date!\n",
      "[nltk_data] Downloading package wordnet to /home/ds/nltk_data...\n",
      "[nltk_data]   Package wordnet is already up-to-date!\n"
     ]
    },
    {
     "data": {
      "text/plain": [
       "True"
      ]
     },
     "execution_count": 9,
     "metadata": {},
     "output_type": "execute_result"
    }
   ],
   "source": [
    "nltk.download(\"cmudict\")\n",
    "nltk.download(\"wordnet\")"
   ]
  },
  {
   "cell_type": "code",
   "execution_count": 4,
   "metadata": {
    "collapsed": true
   },
   "outputs": [],
   "source": [
    "pp = pprint.PrettyPrinter(indent=4)\n",
    "\n",
    "VOWELS = ['A', 'E', 'I', 'O', 'U']\n",
    "NUMBER_CHOICES = [0, 1]\n",
    "\n",
    "input1 = \"eye mull of mush sheen\"\n",
    "output1 = \"i'm a love machine\""
   ]
  },
  {
   "cell_type": "code",
   "execution_count": 5,
   "metadata": {
    "collapsed": true
   },
   "outputs": [],
   "source": [
    "def tokenize_sentence(sentence):\n",
    "    return sentence.split()\n",
    "\n",
    "\n",
    "def get_syllables(w):\n",
    "    return [pron for (word, pron) in cmudict.entries() if word == w]\n",
    "\n",
    "\n",
    "def get_syllables_of_sentence(sentence):\n",
    "    return [get_syllables(word) for word in sentence]"
   ]
  },
  {
   "cell_type": "code",
   "execution_count": 6,
   "metadata": {
    "collapsed": true
   },
   "outputs": [],
   "source": [
    "def possible_pronunciations(syllables):\n",
    "    pronunciations = [t for t in itertools.product(*syllables)]\n",
    "    outer = []\n",
    "    for pronunciation in pronunciations:\n",
    "        inner = []\n",
    "        for word in pronunciation:\n",
    "            inner += word\n",
    "        outer += [inner]\n",
    "    return outer"
   ]
  },
  {
   "cell_type": "code",
   "execution_count": 7,
   "metadata": {
    "collapsed": true
   },
   "outputs": [],
   "source": [
    "def post_processing(pronunciations):\n",
    "    # turn AH0 -> [AH0, AH1, EH0, EH1, IH0, IH1, OH0, OH1, UH0, UH1]\n",
    "    # two or more of a sound gets knocked off [SH, SH] -> [[SH, ''], [SH]]\n",
    "    #                                           ->[[SH, SH], ['', SH]]\n",
    "    # turn B -> [B]\n",
    "    # then do cartesian product to build all possible strings\n",
    "    copy_of_pronunciations = copy.deepcopy(pronunciations)\n",
    "    for pronunciation in pronunciations:\n",
    "        for sound_loc in range(len(pronunciation)):\n",
    "            sound = pronunciation[sound_loc]\n",
    "            if sound_loc + 1 < len(pronunciation) \\\n",
    "                    and pronunciation[sound_loc + 1] == pronunciation[sound_loc]:\n",
    "                deal_with_duplicates(pronunciation, sound_loc)\n",
    "            if pronunciation[sound_loc][0] in VOWELS:\n",
    "                deal_with_vowels(pronunciation, sound_loc)\n",
    "            if pronunciation[sound_loc] == sound:\n",
    "                pronunciation[sound_loc] = [pronunciation[sound_loc]]\n",
    "        copy_of_pronunciations += itertools.product(*pronunciation)\n",
    "    return copy_of_pronunciations"
   ]
  },
  {
   "cell_type": "code",
   "execution_count": 8,
   "metadata": {
    "collapsed": true
   },
   "outputs": [],
   "source": [
    "def deal_with_duplicates(pronunciation, sound_loc):\n",
    "    pronunciation[sound_loc] = [pronunciation[sound_loc], '']\n",
    "\n",
    "\n",
    "def deal_with_vowels(pronunciation, sound_loc):\n",
    "    middle_letter = pronunciation[sound_loc][1]\n",
    "    pronunciation[sound_loc] = [vowel + middle_letter + str(number)\n",
    "                                for vowel in VOWELS\n",
    "                                for number in NUMBER_CHOICES]"
   ]
  },
  {
   "cell_type": "code",
   "execution_count": 9,
   "metadata": {
    "collapsed": true
   },
   "outputs": [],
   "source": [
    "def remove_empty_quotes(pronunciations):\n",
    "    # exists to remove empty quotes in pronunciations\n",
    "    # turn [[SH, SH], ['', SH]] -> [[SH, SH], [SH]]\n",
    "    for pronunciation_loc in range(len(pronunciations)):\n",
    "        pronunciation = pronunciations[pronunciation_loc]\n",
    "        pronunciations[pronunciation_loc] = [sound\n",
    "                                             for sound in pronunciation\n",
    "                                             if sound != '']\n",
    "    return pronunciations"
   ]
  },
  {
   "cell_type": "code",
   "execution_count": 10,
   "metadata": {
    "collapsed": true
   },
   "outputs": [],
   "source": [
    "def do_two_strings_match(input_pronunciations, output_pronunciations):\n",
    "    return any(output_pronunciation == list(input_pronunciation)\n",
    "               for input_pronunciation in input_pronunciations\n",
    "               for output_pronunciation in output_pronunciations)"
   ]
  },
  {
   "cell_type": "code",
   "execution_count": 14,
   "metadata": {
    "collapsed": false
   },
   "outputs": [],
   "source": [
    "convert_string_to_syllables = lambda input_string: get_syllables_of_sentence(tokenize_sentence(input_string))\n",
    "convert_input = lambda syllables: remove_empty_quotes(post_processing(possible_pronunciations(syllables)))\n",
    "\n",
    "input1_syllables = get_syllables_of_sentence(tokenize_sentence(input1))\n",
    "output1_syllables = get_syllables_of_sentence(tokenize_sentence(output1))\n",
    "\n",
    "input_pronunciations = convert_input(convert_string_to_syllables(input1))\n",
    "prettied_input_pronunciations = set([tuple(x) for x in input_pronunciations])\n",
    "output_pronunciations = possible_pronunciations(convert_string_to_syllables(output1))"
   ]
  },
  {
   "cell_type": "code",
   "execution_count": 15,
   "metadata": {
    "collapsed": false
   },
   "outputs": [
    {
     "data": {
      "text/plain": [
       "True"
      ]
     },
     "execution_count": 15,
     "metadata": {},
     "output_type": "execute_result"
    }
   ],
   "source": [
    "do_two_strings_match(prettied_input_pronunciations, output_pronunciations)"
   ]
  },
  {
   "cell_type": "code",
   "execution_count": null,
   "metadata": {
    "collapsed": true
   },
   "outputs": [],
   "source": []
  },
  {
   "cell_type": "code",
   "execution_count": 16,
   "metadata": {
    "collapsed": true
   },
   "outputs": [],
   "source": [
    "VOWELS_IN_CMUDICT = set(pro\n",
    "                        for (_, pron) in cmudict.entries()\n",
    "                        for pro in pron\n",
    "                        if pro[0] in VOWELS)\n",
    "CMUDICT_DICT = cmudict.dict()\n",
    "VOWELS_DICT = {}"
   ]
  },
  {
   "cell_type": "code",
   "execution_count": 17,
   "metadata": {
    "collapsed": true
   },
   "outputs": [],
   "source": [
    "def find_vowel_combinations(middle_letter):\n",
    "    if middle_letter not in VOWELS_DICT.keys():\n",
    "        VOWELS_DICT[middle_letter] = [pro\n",
    "                                      for pro in VOWELS_IN_CMUDICT\n",
    "                                      if pro[1] == middle_letter]\n",
    "    return VOWELS_DICT[middle_letter]"
   ]
  },
  {
   "cell_type": "code",
   "execution_count": 18,
   "metadata": {
    "collapsed": true
   },
   "outputs": [],
   "source": [
    "def get_syllables(w):\n",
    "    if w not in CMUDICT_DICT.keys():\n",
    "        CMUDICT_DICT[w] = \\\n",
    "            [pron for (word, pron) in cmudict.entries() if word == w]\n",
    "    return CMUDICT_DICT[w]"
   ]
  },
  {
   "cell_type": "code",
   "execution_count": 1,
   "metadata": {
    "collapsed": true
   },
   "outputs": [],
   "source": [
    "def possible_pronunciations(syllables):\n",
    "    # input: [[[u'AH1', u'V'], [u'AH0', u'V']], [[u'W']]]\n",
    "    # pronunciations: [([u'AH1', u'V'], [u'W']),([u'AH0', u'V'], [u'W'])]\n",
    "    # output: [[u'AH1', u'V', u'W'], [u'AH0', u'V', u'W']]\n",
    "    pronunciations = [t for t in itertools.product(*syllables)]\n",
    "    \n",
    "    collapse_sentence = lambda acc, word: acc.extend(word) or acc\n",
    "\n",
    "    outer = [reduce(collapse_sentence,\n",
    "                    one_pronunciation, [])\n",
    "             for one_pronunciation in pronunciations]\n",
    "    return outer"
   ]
  },
  {
   "cell_type": "code",
   "execution_count": 2,
   "metadata": {
    "collapsed": true
   },
   "outputs": [],
   "source": [
    "def post_processing(pronunciations):\n",
    "    # turn AH0 -> [AH0, AH1, EH0, EH1, IH0, IH1, OH0, OH1, UH0, UH1] # not exactly though\n",
    "    # two or more of a sound gets knocked off [SH, SH] -> [[SH, ''], [SH]]\n",
    "    #                                           ->[[SH, SH], ['', SH]]\n",
    "    # turn B -> [B]\n",
    "    # then do cartesian product to build all possible strings\n",
    "    copy_of_pronunciations = copy.deepcopy(pronunciations)\n",
    "    for pronunciation in pronunciations:\n",
    "        for sound_loc in range(len(pronunciation)):\n",
    "            sound = pronunciation[sound_loc]\n",
    "            if sound_loc + 1 < len(pronunciation) \\\n",
    "                    and pronunciation[sound_loc + 1] == pronunciation[sound_loc]:\n",
    "                deal_with_duplicates(pronunciation, sound_loc)\n",
    "            if pronunciation[sound_loc][0] in VOWELS:\n",
    "                deal_with_vowels(pronunciation, sound_loc)\n",
    "            if pronunciation[sound_loc] == sound:\n",
    "                pronunciation[sound_loc] = [sound]\n",
    "        copy_of_pronunciations += map(lambda x: list(x),\n",
    "                                      itertools.product(*pronunciation))\n",
    "    return copy_of_pronunciations"
   ]
  },
  {
   "cell_type": "code",
   "execution_count": 3,
   "metadata": {
    "collapsed": true
   },
   "outputs": [],
   "source": [
    "def deal_with_duplicates(pronunciation, sound_loc):\n",
    "    pronunciation[sound_loc] = [pronunciation[sound_loc], u'']\n",
    "\n",
    "def deal_with_vowels(pronunciation, sound_loc):\n",
    "    middle_letter = pronunciation[sound_loc][1]\n",
    "    pronunciation[sound_loc] = find_vowel_combinations(middle_letter)"
   ]
  },
  {
   "cell_type": "code",
   "execution_count": 4,
   "metadata": {
    "collapsed": true
   },
   "outputs": [],
   "source": [
    "def remove_empty_quotes(pronunciations):\n",
    "    # exists to remove empty quotes in pronunciations\n",
    "    # turn [[SH, SH], ['', SH]] -> [[SH, SH], [SH]]\n",
    "    for pronunciation_loc in range(len(pronunciations)):\n",
    "        pronunciation = pronunciations[pronunciation_loc]\n",
    "        pronunciations[pronunciation_loc] = [sound\n",
    "                                             for sound in pronunciation\n",
    "                                             if sound != '']\n",
    "    return pronunciations"
   ]
  },
  {
   "cell_type": "code",
   "execution_count": 5,
   "metadata": {
    "collapsed": true
   },
   "outputs": [],
   "source": [
    "def do_two_strings_match(input_pronunciations, output_pronunciations):\n",
    "    return any(output_pronunciation == list(input_pronunciation)\n",
    "               for input_pronunciation in input_pronunciations\n",
    "               for output_pronunciation in output_pronunciations)"
   ]
  },
  {
   "cell_type": "code",
   "execution_count": 6,
   "metadata": {
    "collapsed": true
   },
   "outputs": [],
   "source": [
    "def compare_two_sentences(input, output, run_everything=False):\n",
    "    input_syllables = get_syllables_of_sentence(tokenize_sentence(input))\n",
    "    output_syllables = get_syllables_of_sentence(tokenize_sentence(output))\n",
    "    input_pronunciations = remove_empty_quotes(\n",
    "        post_processing(\n",
    "            possible_pronunciations(input_syllables)))\n",
    "    prettied_input_pronunciations = set([tuple(x) for x in input_pronunciations])\n",
    "    output_pronunciations = possible_pronunciations(output_syllables)\n",
    "    print(do_two_strings_match(prettied_input_pronunciations, output_pronunciations))\n",
    "    if (run_everything):\n",
    "        do_everything(prettied_input_pronunciations)\n",
    "\n",
    "def do_everything(pretty_input_pronunciations):\n",
    "    # this part is too slow and/or doesn't work\n",
    "    a = [(word, pron, pronunciation)\n",
    "         for pronunciation in pretty_input_pronunciations\n",
    "         for (word, pron)\n",
    "         in cmudict.entries()\n",
    "         if pronunciation[:len(pron)] == pron]\n",
    "    print(a)"
   ]
  },
  {
   "cell_type": "code",
   "execution_count": null,
   "metadata": {
    "collapsed": true
   },
   "outputs": [],
   "source": []
  },
  {
   "cell_type": "code",
   "execution_count": 10,
   "metadata": {
    "collapsed": false
   },
   "outputs": [],
   "source": [
    "d = cmudict.dict()\n",
    "def tree(): return defaultdict(tree)\n",
    "users = tree()"
   ]
  },
  {
   "cell_type": "code",
   "execution_count": 11,
   "metadata": {
    "collapsed": true
   },
   "outputs": [],
   "source": [
    "users['harold']['username'] = 'hrldcpr'\n",
    "users['handler']['username'] = 'matthandlersux'"
   ]
  },
  {
   "cell_type": "code",
   "execution_count": 12,
   "metadata": {
    "collapsed": false
   },
   "outputs": [
    {
     "name": "stdout",
     "output_type": "stream",
     "text": [
      "{\"harold\": {\"username\": \"hrldcpr\"}, \"handler\": {\"username\": \"matthandlersux\"}}\n",
      "{\"username\": \"hrldcpr\"}\n"
     ]
    },
    {
     "data": {
      "text/plain": [
       "'hrldcpr'"
      ]
     },
     "execution_count": 12,
     "metadata": {},
     "output_type": "execute_result"
    }
   ],
   "source": [
    "print(json.dumps(users))\n",
    "print(json.dumps(users['harold']))\n",
    "users['harold']['username']"
   ]
  },
  {
   "cell_type": "code",
   "execution_count": 13,
   "metadata": {
    "collapsed": true
   },
   "outputs": [],
   "source": [
    "def add(dictionary, sounds, word):\n",
    "    for sound in sounds:\n",
    "        dictionary = dictionary[sound]\n",
    "    dictionary['value'] = word\n",
    "\n",
    "cmu = tree()"
   ]
  },
  {
   "cell_type": "code",
   "execution_count": 14,
   "metadata": {
    "collapsed": true
   },
   "outputs": [],
   "source": [
    "for x in d:\n",
    "    for p in d[x]:\n",
    "        add(cmu, p, x)"
   ]
  },
  {
   "cell_type": "code",
   "execution_count": 15,
   "metadata": {
    "collapsed": false
   },
   "outputs": [
    {
     "data": {
      "text/plain": [
       "dict_keys(['G', 'DH', 'V', 'AE0', 'HH', 'F', 'AY0', 'D', 'AO0', 'UW1', 'EH2', 'IY2', 'AW2', 'TH', 'AA0', 'AE2', 'IH2', 'IY1', 'M', 'IH1', 'AW0', 'T', 'AH2', 'AW1', 'K', 'AY2', 'L', 'S', 'AH0', 'OY2', 'EH1', 'UH1', 'Z', 'OY1', 'AE1', 'ER2', 'OW0', 'AH1', 'AA1', 'Y', 'EY1', 'ER1', 'EH0', 'JH', 'W', 'R', 'ZH', 'AO2', 'OW2', 'ER0', 'UW0', 'N', 'AY1', 'EY0', 'SH', 'P', 'UW2', 'CH', 'B', 'AA2', 'EY2', 'OW1', 'AO1', 'IY0', 'IH0'])"
      ]
     },
     "execution_count": 15,
     "metadata": {},
     "output_type": "execute_result"
    }
   ],
   "source": [
    "cmu.keys()"
   ]
  },
  {
   "cell_type": "code",
   "execution_count": 16,
   "metadata": {
    "collapsed": true
   },
   "outputs": [],
   "source": [
    "cmud = json.loads(json.dumps(cmu))"
   ]
  },
  {
   "cell_type": "code",
   "execution_count": 18,
   "metadata": {
    "collapsed": false
   },
   "outputs": [
    {
     "name": "stdout",
     "output_type": "stream",
     "text": [
      "{'AE0': {'D': {'Z': {'value': \"sayad's\"}, 'value': 'sayad'},\n",
      "         'K': {'value': 'cyacq'},\n",
      "         'M': {'value': 'siam'}},\n",
      " 'AH0': {'N': {'AH0': {'Z': {'IY2': {'N': {'value': 'cyanazine'}}}},\n",
      "               'AY2': {'D': {'value': 'cyanide'}},\n",
      "               'S': {'AH0': {'Z': {'value': 'sciences'}},\n",
      "                     'IH0': {'Z': {'value': \"science's\"}},\n",
      "                     'value': 'science'},\n",
      "               'T': {'IH0': {'S': {'T': {'S': {'value': \"scientist's\"},\n",
      "                                         'value': 'scientist'},\n",
      "                                   'value': 'scientists'}}},\n",
      "               'value': 'scion'}},\n",
      " 'B': {'AH0': {'L': {'value': 'sible'},\n",
      "               'Z': {'value': \"ciba's\"},\n",
      "               'value': 'ciba'},\n",
      "       'AO0': {'R': {'G': {'value': 'cyborg'}}},\n",
      "       'ER0': {'K': {'AE2': {'SH': {'value': 'cybercash'}}},\n",
      "               'L': {'IH0': {'K': {'value': 'seiberlich'},\n",
      "                             'NG': {'value': 'seiberling'}}},\n",
      "               'P': {'AO2': {'R': {'N': {'value': 'cyberporn'}}}},\n",
      "               'S': {'EH2': {'K': {'S': {'value': 'cybersex'}}},\n",
      "                     'P': {'EY2': {'S': {'IH0': {'Z': {'value': \"cyberspace's\"}},\n",
      "                                         'value': 'cyberspace'}}}},\n",
      "               'T': {'R': {'EH0': {'N': {'D': {'Z': {'value': 'cybertrends'},\n",
      "                                               'value': 'cybertrend'}}}},\n",
      "                     'value': 'seibert'},\n",
      "               'value': 'cyber'},\n",
      "       'EY1': {'S': {'IH0': {'Z': {'value': \"sybase's\"}}}},\n",
      "       'EY2': {'S': {'value': 'sybase'}},\n",
      "       'IH2': {'L': {'value': 'cybill'}},\n",
      "       'OW2': {'L': {'D': {'value': 'seibold'}}},\n",
      "       'UW0': {'value': 'seibu'},\n",
      "       'value': 'cyb'},\n",
      " 'D': {'AA0': {'R': {'M': {'Z': {'value': 'sidearms'}, 'value': 'sidearm'}}},\n",
      "       'AH0': {'D': {'value': 'sided'},\n",
      "               'K': {'value': 'sajdak'},\n",
      "               'L': {'D': {'value': 'sidled'},\n",
      "                     'ER0': {'value': 'sidler'},\n",
      "                     'IH0': {'NG': {'value': 'sidling'}},\n",
      "                     'M': {'AH0': {'N': {'value': 'seidelman'}}},\n",
      "                     'Z': {'value': 'sidles'},\n",
      "                     'value': 'seidl'},\n",
      "               'M': {'value': 'suydam'},\n",
      "               'N': {'B': {'ER0': {'G': {'value': 'seidenberg'}}},\n",
      "                     'value': 'sidon'}},\n",
      "       'B': {'AA2': {'R': {'Z': {'value': 'sidebars'}, 'value': 'sidebar'}}},\n",
      "       'EH2': {'K': {'value': 'sidek'}},\n",
      "       'ER0': {'Z': {'value': 'seiders'}, 'value': 'cider'},\n",
      "       'IH0': {'D': {'value': 'sided'}, 'NG': {'value': 'siding'}},\n",
      "       'IY0': {'value': 'sidey'},\n",
      "       'K': {'IH2': {'K': {'value': 'sidekick'}}},\n",
      "       'L': {'AY2': {'N': {'D': {'value': 'sidelined'},\n",
      "                           'Z': {'value': 'sidelines'},\n",
      "                           'value': 'sideline'}},\n",
      "             'ER0': {'value': 'sidler'},\n",
      "             'IH0': {'NG': {'value': 'sidling'}}},\n",
      "       'M': {'AE2': {'N': {'value': 'sideman'}},\n",
      "             'AH0': {'N': {'Z': {'value': \"seidman's\"}, 'value': 'seidman'}}},\n",
      "       'N': {'ER0': {'value': 'seidner'}},\n",
      "       'S': {'T': {'EH2': {'P': {'IH0': {'NG': {'value': 'sidestepping'}},\n",
      "                                 'S': {'value': 'sidesteps'},\n",
      "                                 'T': {'value': 'sidestepped'},\n",
      "                                 'value': 'sidestep'}},\n",
      "                   'R': {'IY2': {'M': {'value': 'sidestream'}}}}},\n",
      "       'SH': {'OW2': {'Z': {'value': 'sideshows'}, 'value': 'sideshow'}},\n",
      "       'T': {'R': {'AE2': {'K': {'T': {'value': 'sidetracked'},\n",
      "                                 'value': 'sidetrack'}}}},\n",
      "       'W': {'AO2': {'K': {'S': {'value': 'sidewalks'},\n",
      "                           'value': 'sidewalk'},\n",
      "                     'T': {'ER0': {'value': 'sidewater'}}},\n",
      "             'AY2': {'N': {'D': {'ER0': {'value': 'sidewinder'}}},\n",
      "                     'Z': {'value': 'sidewise'}},\n",
      "             'EY2': {'Z': {'value': 'sideways'}}},\n",
      "       'Z': {'value': \"side's\"},\n",
      "       'value': 'sighed'},\n",
      " 'DH': {'ER0': {'value': 'seither'}, 'value': 'sithe'},\n",
      " 'ER0': {'T': {'value': 'cyert'}, 'Z': {'value': 'syers'}, 'value': 'seier'},\n",
      " 'F': {'AH0': {'N': {'D': {'value': 'siphoned'},\n",
      "                     'IH0': {'NG': {'value': 'siphoning'}},\n",
      "                     'Z': {'value': 'siphons'},\n",
      "                     'value': 'siphon'}},\n",
      "       'ER0': {'IY0': {'D': {'value': 'seifried'}},\n",
      "               'T': {'value': 'cyphert'},\n",
      "               'Z': {'value': 'sifers'},\n",
      "               'value': 'seifer'},\n",
      "       'value': 'saif'},\n",
      " 'G': {'AH0': {'L': {'ER0': {'value': 'sigler'}, 'value': 'seigel'},\n",
      "               'N': {'value': 'cygan'}},\n",
      "       'ER0': {'value': 'seiger'},\n",
      "       'L': {'ER0': {'value': 'sigler'}}},\n",
      " 'IH0': {'D': {'value': 'sayyid'}, 'NG': {'value': 'sighing'}},\n",
      " 'JH': {'AH0': {'L': {'value': 'sigal'}}},\n",
      " 'K': {'AE0': {'D': {'Z': {'value': 'cycads'}}},\n",
      "       'AH0': {'L': {'D': {'value': 'cycled'},\n",
      "                     'IH0': {'NG': {'value': 'cycling'},\n",
      "                             'S': {'T': {'S': {'value': 'cyclists'},\n",
      "                                         'value': 'cyclist'},\n",
      "                                   'value': 'cyclists'}},\n",
      "                     'Z': {'value': 'cycles'},\n",
      "                     'value': 'cycle'}},\n",
      "       'EH2': {'R': {'value': 'cycare'}},\n",
      "       'IH0': {'K': {'AH0': {'L': {'value': 'psychical'}},\n",
      "                     'S': {'value': 'psychics'},\n",
      "                     'value': 'psychic'}},\n",
      "       'IY0': {'Z': {'value': 'psyches'}, 'value': 'psyche'},\n",
      "       'L': {'AE2': {'D': {'Z': {'value': 'cyclades'}}},\n",
      "             'AH0': {'S': {'T': {'OW2': {'M': {'Z': {'value': 'cyclostomes'},\n",
      "                                               'value': 'cyclostome'}}}},\n",
      "                     'T': {'R': {'AA0': {'N': {'value': 'cyclotron'}}}}},\n",
      "             'AO2': {'P': {'S': {'IH0': {'Z': {'value': \"cyclops's\"}},\n",
      "                                 'value': 'cyclops'}}},\n",
      "             'IH0': {'K': {'AH0': {'L': {'value': 'cyclical'}},\n",
      "                           'value': 'cyclic'},\n",
      "                     'NG': {'value': 'cycling'},\n",
      "                     'S': {'T': {'S': {'value': 'cyclists'},\n",
      "                                 'value': 'cyclist'},\n",
      "                           'value': 'cyclists'}}},\n",
      "       'OW0': {'P': {'AE2': {'TH': {'S': {'value': 'psychopaths'},\n",
      "                                    'value': 'psychopath'}}},\n",
      "               'value': 'psycho'},\n",
      "       'S': {'value': 'sikes'},\n",
      "       'T': {'value': 'psyched'},\n",
      "       'value': 'psych'},\n",
      " 'L': {'AH0': {'N': {'S': {'IH0': {'NG': {'value': 'silencing'},\n",
      "                                   'Z': {'value': 'silences'}},\n",
      "                           'T': {'value': 'silenced'},\n",
      "                           'value': 'silence'},\n",
      "                     'T': {'L': {'IY0': {'value': 'silently'}},\n",
      "                           'value': 'silent'}},\n",
      "               'S': {'value': 'silas'}},\n",
      "       'EH0': {'K': {'S': {'value': 'silex'}}},\n",
      "       'ER0': {'value': 'seiler'},\n",
      "       'OW0': {'value': 'silo'},\n",
      "       'OW2': {'Z': {'value': 'silos'}},\n",
      "       'Z': {'value': 'seils'},\n",
      "       'value': 'seil'},\n",
      " 'M': {'AH0': {'N': {'D': {'Z': {'value': 'simonds'}},\n",
      "                     'IY0': {'value': 'simony'},\n",
      "                     'S': {'AH0': {'N': {'value': 'simonsson'}}},\n",
      "                     'T': {'AH0': {'N': {'value': 'simonton'}}},\n",
      "                     'Z': {'value': 'simons'},\n",
      "                     'value': 'simon'},\n",
      "               'Z': {'value': 'simas'}},\n",
      "       'EH0': {'K': {'S': {'value': 'simex'}}},\n",
      "       'EH2': {'D': {'value': 'scimed'}},\n",
      "       'ER0': {'L': {'IY0': {'value': 'simerly'}}, 'value': 'simer'},\n",
      "       'OW0': {'Z': {'value': 'simoes'}},\n",
      "       'Y': {'AH0': {'L': {'K': {'AE2': {'S': {'T': {'value': 'simulcast'}}}}}}},\n",
      "       'Z': {'value': 'simes'},\n",
      "       'value': 'seim'},\n",
      " 'N': {'AA0': {'R': {'value': 'synar'}},\n",
      "       'AH0': {'N': {'value': 'synan'},\n",
      "               'S': {'AH0': {'Z': {'value': 'sinuses'}},\n",
      "                     'OY2': {'D': {'AH0': {'L': {'value': 'sinusoidal'}},\n",
      "                                   'value': 'sinusoid'}},\n",
      "                     'value': 'sinus'}},\n",
      "       'AY2': {'D': {'value': 'cyanide'}, 'value': 'sinai'},\n",
      "       'D': {'IY0': {'value': 'cindie'}, 'value': 'signed'},\n",
      "       'ER0': {'Z': {'value': 'signers'}, 'value': 'signer'},\n",
      "       'F': {'EH0': {'L': {'D': {'Z': {'value': \"seinfeld's\"},\n",
      "                                 'value': 'seinfeld'}}}},\n",
      "       'IH0': {'JH': {'value': 'signage'},\n",
      "               'NG': {'Z': {'value': 'signings'}, 'value': 'signing'}},\n",
      "       'OW0': {'P': {'EH2': {'K': {'value': 'sinopec'}}}, 'value': 'sino'},\n",
      "       'P': {'OW2': {'S': {'S': {'value': 'signposts'},\n",
      "                           'T': {'S': {'value': 'signposts'},\n",
      "                                 'value': 'signpost'},\n",
      "                           'value': 'signposts'}}},\n",
      "       'T': {'IH0': {'S': {'T': {'S': {'value': 'scientists'}},\n",
      "                           'value': 'scientists'}}},\n",
      "       'Z': {'value': 'signs'},\n",
      "       'value': 'sign'},\n",
      " 'P': {'AH0': {'L': {'value': 'seipel'}},\n",
      "       'ER0': {'T': {'value': 'cypert'}},\n",
      "       'OW0': {'Z': {'value': 'sipos'}},\n",
      "       'R': {'AH0': {'S': {'IH0': {'Z': {'value': \"cypress's\"}},\n",
      "                           'value': 'cyprus'}},\n",
      "             'IH0': {'S': {'value': 'cypris'}}},\n",
      "       'S': {'value': 'sipes'},\n",
      "       'value': 'syp'},\n",
      " 'R': {'AH0': {'F': {'IH0': {'N': {'value': 'cyrofin'}}},\n",
      "               'N': {'Z': {'value': 'sirens'}, 'value': 'siren'},\n",
      "               'S': {'value': 'cyrus'}},\n",
      "       'IH0': {'NG': {'value': 'syring'}, 'S': {'value': 'siris'}},\n",
      "       'IH2': {'K': {'S': {'IH0': {'Z': {'value': \"cyrix's\"}},\n",
      "                           'value': 'cyrix'}}},\n",
      "       'Z': {'value': 'sires'},\n",
      "       'value': 'scire'},\n",
      " 'S': {'ER0': {'value': 'seiser'},\n",
      "       'K': {'AH0': {'N': {'Z': {'value': \"syscon's\"}, 'value': 'syscon'}}},\n",
      "       'T': {'R': {'AE2': {'N': {'value': 'systran'}}}}},\n",
      " 'T': {'AH0': {'D': {'value': 'sighted'},\n",
      "               'L': {'ER0': {'value': 'sitler'}},\n",
      "               'P': {'L': {'AE2': {'Z': {'AH0': {'M': {'value': 'cytoplasm'}}}}}},\n",
      "               'S': {'value': 'situs'}},\n",
      "       'ER0': {'value': 'seitter'},\n",
      "       'IH0': {'D': {'value': 'sited'},\n",
      "               'NG': {'Z': {'value': 'sightings'}, 'value': 'sighting'}},\n",
      "       'L': {'ER0': {'value': 'sitler'}},\n",
      "       'OW0': {'JH': {'EH0': {'N': {'value': 'cytogen'}}},\n",
      "               'T': {'EH2': {'K': {'S': {'value': 'cytotechs'},\n",
      "                                   'value': 'cytotech'}}}},\n",
      "       'S': {'IY1': {'ER0': {'Z': {'value': 'sightseers'},\n",
      "                             'value': 'sightseer'},\n",
      "                     'IH0': {'NG': {'value': 'sightseeing'}},\n",
      "                     'R': {'Z': {'value': 'sightseers'},\n",
      "                           'value': 'sight-seer'},\n",
      "                     'value': 'sightsee'},\n",
      "             'value': 'sights'},\n",
      "       'Z': {'IH0': {'NG': {'ER0': {'value': 'seitzinger'}}}},\n",
      "       'value': 'site'},\n",
      " 'TH': {'value': 'scythe'},\n",
      " 'V': {'ER0': {'T': {'value': 'seivert'}, 'value': 'siver'}},\n",
      " 'W': {'ER0': {'T': {'value': 'seiwert'}}},\n",
      " 'Z': {'AH0': {'B': {'AH0': {'L': {'value': 'sizable'}}},\n",
      "               'Z': {'value': 'sizes'}},\n",
      "       'D': {'value': 'sized'},\n",
      "       'ER0': {'value': 'sizer'},\n",
      "       'IH0': {'NG': {'value': 'sizing'}, 'Z': {'value': 'sizes'}},\n",
      "       'L': {'AH2': {'V': {'value': 'sizelove'}},\n",
      "             'ER0': {'value': 'sizeler'}},\n",
      "       'M': {'AO0': {'R': {'value': 'sisemore'}},\n",
      "             'IH0': {'K': {'value': 'seismic'}}},\n",
      "       'value': 'size'},\n",
      " 'value': 'sigh'}\n"
     ]
    }
   ],
   "source": [
    "pprint.pprint(cmud['S']['AY1'])"
   ]
  },
  {
   "cell_type": "code",
   "execution_count": 19,
   "metadata": {
    "collapsed": false
   },
   "outputs": [
    {
     "data": {
      "text/plain": [
       "'sigh'"
      ]
     },
     "execution_count": 19,
     "metadata": {},
     "output_type": "execute_result"
    }
   ],
   "source": [
    "cmud['S']['AY1']['value']"
   ]
  },
  {
   "cell_type": "code",
   "execution_count": null,
   "metadata": {
    "collapsed": true
   },
   "outputs": [],
   "source": []
  }
 ],
 "metadata": {
  "kernelspec": {
   "display_name": "Python 3",
   "language": "python",
   "name": "python3"
  },
  "language_info": {
   "codemirror_mode": {
    "name": "ipython",
    "version": 3
   },
   "file_extension": ".py",
   "mimetype": "text/x-python",
   "name": "python",
   "nbconvert_exporter": "python",
   "pygments_lexer": "ipython3",
   "version": "3.4.3"
  }
 },
 "nbformat": 4,
 "nbformat_minor": 0
}
