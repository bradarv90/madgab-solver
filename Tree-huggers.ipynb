{
 "cells": [
  {
   "cell_type": "code",
   "execution_count": 172,
   "metadata": {
    "collapsed": false
   },
   "outputs": [
    {
     "name": "stdout",
     "output_type": "stream",
     "text": [
      "[nltk_data] Downloading package cmudict to /home/ds/nltk_data...\n",
      "[nltk_data]   Package cmudict is already up-to-date!\n"
     ]
    },
    {
     "data": {
      "text/plain": [
       "True"
      ]
     },
     "execution_count": 172,
     "metadata": {},
     "output_type": "execute_result"
    }
   ],
   "source": [
    "import nltk\n",
    "from nltk.corpus import cmudict\n",
    "from itertools import groupby\n",
    "from collections import defaultdict\n",
    "import json\n",
    "import pprint\n",
    "nltk.download(\"cmudict\")"
   ]
  },
  {
   "cell_type": "code",
   "execution_count": 173,
   "metadata": {
    "collapsed": false
   },
   "outputs": [],
   "source": [
    "cmudict.entries()\n",
    "d = cmudict.dict()"
   ]
  },
  {
   "cell_type": "code",
   "execution_count": 174,
   "metadata": {
    "collapsed": false
   },
   "outputs": [],
   "source": [
    "def tree(): return defaultdict(tree)\n",
    "users = tree()"
   ]
  },
  {
   "cell_type": "code",
   "execution_count": 175,
   "metadata": {
    "collapsed": true
   },
   "outputs": [],
   "source": [
    "users['harold']['username'] = 'hrldcpr'\n",
    "users['handler']['username'] = 'matthandlersux'"
   ]
  },
  {
   "cell_type": "code",
   "execution_count": 176,
   "metadata": {
    "collapsed": false
   },
   "outputs": [
    {
     "name": "stdout",
     "output_type": "stream",
     "text": [
      "{\"handler\": {\"username\": \"matthandlersux\"}, \"harold\": {\"username\": \"hrldcpr\"}}\n",
      "{\"username\": \"hrldcpr\"}\n"
     ]
    },
    {
     "data": {
      "text/plain": [
       "'hrldcpr'"
      ]
     },
     "execution_count": 176,
     "metadata": {},
     "output_type": "execute_result"
    }
   ],
   "source": [
    "print(json.dumps(users))\n",
    "print(json.dumps(users['harold']))\n",
    "users['harold']['username']"
   ]
  },
  {
   "cell_type": "code",
   "execution_count": 177,
   "metadata": {
    "collapsed": false
   },
   "outputs": [],
   "source": [
    "def add(dictionary, sounds, word):\n",
    "    for sound in sounds:\n",
    "        dictionary = dictionary[sound]\n",
    "    dictionary['value'] = word\n",
    "\n",
    "cmu = tree()"
   ]
  },
  {
   "cell_type": "code",
   "execution_count": 178,
   "metadata": {
    "collapsed": false
   },
   "outputs": [],
   "source": [
    "for x in d:\n",
    "    for p in d[x]:\n",
    "        add(cmu, p, x)"
   ]
  },
  {
   "cell_type": "code",
   "execution_count": 179,
   "metadata": {
    "collapsed": false
   },
   "outputs": [
    {
     "data": {
      "text/plain": [
       "dict_keys(['F', 'R', 'G', 'V', 'OW0', 'OY1', 'D', 'AH1', 'IH2', 'AE0', 'UW0', 'JH', 'TH', 'AO2', 'DH', 'UW2', 'ER1', 'M', 'EH1', 'AA2', 'IY0', 'AW2', 'SH', 'AH0', 'EY2', 'UW1', 'IY2', 'B', 'EY1', 'IH0', 'AW0', 'L', 'EH2', 'AW1', 'P', 'AE2', 'AO1', 'CH', 'AA0', 'AY1', 'N', 'AY0', 'ER0', 'UH1', 'EY0', 'ZH', 'T', 'W', 'IH1', 'OW1', 'Z', 'AO0', 'AA1', 'Y', 'HH', 'IY1', 'K', 'AE1', 'AY2', 'OY2', 'AH2', 'S', 'EH0', 'ER2', 'OW2'])"
      ]
     },
     "execution_count": 179,
     "metadata": {},
     "output_type": "execute_result"
    }
   ],
   "source": [
    "cmu.keys()"
   ]
  },
  {
   "cell_type": "code",
   "execution_count": 180,
   "metadata": {
    "collapsed": false
   },
   "outputs": [],
   "source": [
    "cmud = json.loads(json.dumps(cmu))"
   ]
  },
  {
   "cell_type": "code",
   "execution_count": 183,
   "metadata": {
    "collapsed": false
   },
   "outputs": [
    {
     "name": "stdout",
     "output_type": "stream",
     "text": [
      "{'AE0': {'D': {'Z': {'value': \"sayad's\"}, 'value': 'sayad'},\n",
      "         'K': {'value': 'cyacq'},\n",
      "         'M': {'value': 'siam'}},\n",
      " 'AH0': {'N': {'AH0': {'Z': {'IY2': {'N': {'value': 'cyanazine'}}}},\n",
      "               'AY2': {'D': {'value': 'cyanide'}},\n",
      "               'S': {'AH0': {'Z': {'value': 'sciences'}},\n",
      "                     'IH0': {'Z': {'value': \"sciences'\"}},\n",
      "                     'value': 'science'},\n",
      "               'T': {'IH0': {'S': {'T': {'S': {'value': 'scientists'},\n",
      "                                         'value': 'scientist'},\n",
      "                                   'value': 'scientists'}}},\n",
      "               'value': 'scion'}},\n",
      " 'B': {'AH0': {'L': {'value': 'seibel'},\n",
      "               'Z': {'value': \"ciba's\"},\n",
      "               'value': 'ciba'},\n",
      "       'AO0': {'R': {'G': {'value': 'cyborg'}}},\n",
      "       'ER0': {'K': {'AE2': {'SH': {'value': 'cybercash'}}},\n",
      "               'L': {'IH0': {'K': {'value': 'seiberlich'},\n",
      "                             'NG': {'value': 'seiberling'}}},\n",
      "               'P': {'AO2': {'R': {'N': {'value': 'cyberporn'}}}},\n",
      "               'S': {'EH2': {'K': {'S': {'value': 'cybersex'}}},\n",
      "                     'P': {'EY2': {'S': {'IH0': {'Z': {'value': \"cyberspace's\"}},\n",
      "                                         'value': 'cyberspace'}}}},\n",
      "               'T': {'R': {'EH0': {'N': {'D': {'Z': {'value': 'cybertrends'},\n",
      "                                               'value': 'cybertrend'}}}},\n",
      "                     'value': 'seibert'},\n",
      "               'value': 'seiber'},\n",
      "       'EY1': {'S': {'IH0': {'Z': {'value': \"sybase's\"}}}},\n",
      "       'EY2': {'S': {'value': 'sybase'}},\n",
      "       'IH2': {'L': {'value': 'cybill'}},\n",
      "       'OW2': {'L': {'D': {'value': 'seibold'}}},\n",
      "       'UW0': {'value': 'seibu'},\n",
      "       'value': 'cyb'},\n",
      " 'D': {'AA0': {'R': {'M': {'Z': {'value': 'sidearms'}, 'value': 'sidearm'}}},\n",
      "       'AH0': {'D': {'value': 'sided'},\n",
      "               'K': {'value': 'sajdak'},\n",
      "               'L': {'D': {'value': 'sidled'},\n",
      "                     'ER0': {'value': 'sidler'},\n",
      "                     'IH0': {'NG': {'value': 'sidling'}},\n",
      "                     'M': {'AH0': {'N': {'value': 'seidelman'}}},\n",
      "                     'Z': {'value': 'sidles'},\n",
      "                     'value': 'sidle'},\n",
      "               'M': {'value': 'suydam'},\n",
      "               'N': {'B': {'ER0': {'G': {'value': 'seidenberg'}}},\n",
      "                     'value': 'sidon'}},\n",
      "       'B': {'AA2': {'R': {'Z': {'value': 'sidebars'}, 'value': 'sidebar'}}},\n",
      "       'EH2': {'K': {'value': 'sidek'}},\n",
      "       'ER0': {'Z': {'value': \"syders'\"}, 'value': 'sider'},\n",
      "       'IH0': {'D': {'value': 'sided'}, 'NG': {'value': 'siding'}},\n",
      "       'IY0': {'value': 'sidey'},\n",
      "       'K': {'IH2': {'K': {'value': 'sidekick'}}},\n",
      "       'L': {'AY2': {'N': {'D': {'value': 'sidelined'},\n",
      "                           'Z': {'value': 'sidelines'},\n",
      "                           'value': 'sideline'}},\n",
      "             'ER0': {'value': 'sidler'},\n",
      "             'IH0': {'NG': {'value': 'sidling'}}},\n",
      "       'M': {'AE2': {'N': {'value': 'sideman'}},\n",
      "             'AH0': {'N': {'Z': {'value': \"seidman's\"}, 'value': 'seidman'}}},\n",
      "       'N': {'ER0': {'value': 'seidner'}},\n",
      "       'S': {'T': {'EH2': {'P': {'IH0': {'NG': {'value': 'sidestepping'}},\n",
      "                                 'S': {'value': 'sidesteps'},\n",
      "                                 'T': {'value': 'sidestepped'},\n",
      "                                 'value': 'sidestep'}},\n",
      "                   'R': {'IY2': {'M': {'value': 'sidestream'}}}}},\n",
      "       'SH': {'OW2': {'Z': {'value': 'sideshows'}, 'value': 'sideshow'}},\n",
      "       'T': {'R': {'AE2': {'K': {'T': {'value': 'sidetracked'},\n",
      "                                 'value': 'sidetrack'}}}},\n",
      "       'W': {'AO2': {'K': {'S': {'value': 'sidewalks'},\n",
      "                           'value': 'sidewalk'},\n",
      "                     'T': {'ER0': {'value': 'sidewater'}}},\n",
      "             'AY2': {'N': {'D': {'ER0': {'value': 'sidewinder'}}},\n",
      "                     'Z': {'value': 'sidewise'}},\n",
      "             'EY2': {'Z': {'value': 'sideways'}}},\n",
      "       'Z': {'value': \"side's\"},\n",
      "       'value': 'side'},\n",
      " 'DH': {'ER0': {'value': 'seither'}, 'value': 'sithe'},\n",
      " 'ER0': {'T': {'value': 'cyert'}, 'Z': {'value': 'syers'}, 'value': 'sire'},\n",
      " 'F': {'AH0': {'N': {'D': {'value': 'siphoned'},\n",
      "                     'IH0': {'NG': {'value': 'siphoning'}},\n",
      "                     'Z': {'value': 'siphons'},\n",
      "                     'value': 'siphon'}},\n",
      "       'ER0': {'IY0': {'D': {'value': 'seifried'}},\n",
      "               'T': {'value': 'seiffert'},\n",
      "               'Z': {'value': 'scifres'},\n",
      "               'value': 'seifer'},\n",
      "       'value': 'saif'},\n",
      " 'G': {'AH0': {'L': {'ER0': {'value': 'seigler'}, 'value': 'sigle'},\n",
      "               'N': {'value': 'cygan'}},\n",
      "       'ER0': {'value': 'seiger'},\n",
      "       'L': {'ER0': {'value': 'sigler'}}},\n",
      " 'IH0': {'D': {'value': 'sayiid'}, 'NG': {'value': 'sighing'}},\n",
      " 'JH': {'AH0': {'L': {'value': 'sigal'}}},\n",
      " 'K': {'AE0': {'D': {'Z': {'value': 'cycads'}}},\n",
      "       'AH0': {'L': {'D': {'value': 'cycled'},\n",
      "                     'IH0': {'NG': {'value': 'cycling'},\n",
      "                             'S': {'T': {'S': {'value': 'cyclists'},\n",
      "                                         'value': 'cyclist'},\n",
      "                                   'value': 'cyclists'}},\n",
      "                     'Z': {'value': 'cycles'},\n",
      "                     'value': 'cycle'}},\n",
      "       'EH2': {'R': {'value': 'cycare'}},\n",
      "       'IH0': {'K': {'AH0': {'L': {'value': 'psychical'}},\n",
      "                     'S': {'value': 'psychics'},\n",
      "                     'value': 'psychic'}},\n",
      "       'IY0': {'Z': {'value': 'psyches'}, 'value': 'psyche'},\n",
      "       'L': {'AE2': {'D': {'Z': {'value': 'cyclades'}}},\n",
      "             'AH0': {'S': {'T': {'OW2': {'M': {'Z': {'value': 'cyclostomes'},\n",
      "                                               'value': 'cyclostome'}}}},\n",
      "                     'T': {'R': {'AA0': {'N': {'value': 'cyclotron'}}}}},\n",
      "             'AO2': {'P': {'S': {'IH0': {'Z': {'value': \"cyclops's\"}},\n",
      "                                 'value': 'cyclops'}}},\n",
      "             'IH0': {'K': {'AH0': {'L': {'value': 'cyclical'}},\n",
      "                           'value': 'cyclic'},\n",
      "                     'NG': {'value': 'cycling'},\n",
      "                     'S': {'T': {'S': {'value': 'cyclists'},\n",
      "                                 'value': 'cyclist'},\n",
      "                           'value': 'cyclists'}}},\n",
      "       'OW0': {'P': {'AE2': {'TH': {'S': {'value': 'psychopaths'},\n",
      "                                    'value': 'psychopath'}}},\n",
      "               'value': 'psycho'},\n",
      "       'S': {'value': 'sykes'},\n",
      "       'T': {'value': 'psyched'},\n",
      "       'value': 'psych'},\n",
      " 'L': {'AH0': {'N': {'S': {'IH0': {'NG': {'value': 'silencing'},\n",
      "                                   'Z': {'value': 'silences'}},\n",
      "                           'T': {'value': 'silenced'},\n",
      "                           'value': 'silence'},\n",
      "                     'T': {'L': {'IY0': {'value': 'silently'}},\n",
      "                           'value': 'silent'}},\n",
      "               'S': {'value': 'silas'}},\n",
      "       'EH0': {'K': {'S': {'value': 'silex'}}},\n",
      "       'ER0': {'value': 'syler'},\n",
      "       'OW0': {'value': 'silo'},\n",
      "       'OW2': {'Z': {'value': 'silos'}},\n",
      "       'Z': {'value': 'seils'},\n",
      "       'value': 'seil'},\n",
      " 'M': {'AH0': {'N': {'D': {'Z': {'value': 'simonds'}},\n",
      "                     'IY0': {'value': 'simony'},\n",
      "                     'S': {'AH0': {'N': {'value': 'simonsson'}}},\n",
      "                     'T': {'AH0': {'N': {'value': 'simonton'}}},\n",
      "                     'Z': {'value': 'simons'},\n",
      "                     'value': 'simon'},\n",
      "               'Z': {'value': 'simas'}},\n",
      "       'EH0': {'K': {'S': {'value': 'simex'}}},\n",
      "       'EH2': {'D': {'value': 'scimed'}},\n",
      "       'ER0': {'L': {'IY0': {'value': 'simerly'}}, 'value': 'simer'},\n",
      "       'OW0': {'Z': {'value': 'simoes'}},\n",
      "       'Y': {'AH0': {'L': {'K': {'AE2': {'S': {'T': {'value': 'simulcast'}}}}}}},\n",
      "       'Z': {'value': 'symes'},\n",
      "       'value': 'sime'},\n",
      " 'N': {'AA0': {'R': {'value': 'synar'}},\n",
      "       'AH0': {'N': {'value': 'synan'},\n",
      "               'S': {'AH0': {'Z': {'value': 'sinuses'}},\n",
      "                     'OY2': {'D': {'AH0': {'L': {'value': 'sinusoidal'}},\n",
      "                                   'value': 'sinusoid'}},\n",
      "                     'value': 'sinus'}},\n",
      "       'AY2': {'D': {'value': 'cyanide'}, 'value': 'sinai'},\n",
      "       'D': {'IY0': {'value': 'cindie'}, 'value': 'signed'},\n",
      "       'ER0': {'Z': {'value': 'signers'}, 'value': 'sinar'},\n",
      "       'F': {'EH0': {'L': {'D': {'Z': {'value': \"seinfeld's\"},\n",
      "                                 'value': 'seinfeld'}}}},\n",
      "       'IH0': {'JH': {'value': 'signage'},\n",
      "               'NG': {'Z': {'value': 'signings'}, 'value': 'signing'}},\n",
      "       'OW0': {'P': {'EH2': {'K': {'value': 'sinopec'}}}, 'value': 'sino'},\n",
      "       'P': {'OW2': {'S': {'S': {'value': 'signposts'},\n",
      "                           'T': {'S': {'value': 'signposts'},\n",
      "                                 'value': 'signpost'},\n",
      "                           'value': 'signposts'}}},\n",
      "       'T': {'IH0': {'S': {'T': {'S': {'value': 'scientists'}},\n",
      "                           'value': 'scientists'}}},\n",
      "       'Z': {'value': 'sines'},\n",
      "       'value': 'sein'},\n",
      " 'P': {'AH0': {'L': {'value': 'siple'}},\n",
      "       'ER0': {'T': {'value': 'cypert'}},\n",
      "       'OW0': {'Z': {'value': 'sipos'}},\n",
      "       'R': {'AH0': {'S': {'IH0': {'Z': {'value': \"cypress's\"}},\n",
      "                           'value': 'cyprus'}},\n",
      "             'IH0': {'S': {'value': 'cypris'}}},\n",
      "       'S': {'value': 'sipes'},\n",
      "       'value': 'syp'},\n",
      " 'R': {'AH0': {'F': {'IH0': {'N': {'value': 'cyrofin'}}},\n",
      "               'N': {'Z': {'value': 'sirens'}, 'value': 'siren'},\n",
      "               'S': {'value': 'cyrus'}},\n",
      "       'IH0': {'NG': {'value': 'syring'}, 'S': {'value': 'siris'}},\n",
      "       'IH2': {'K': {'S': {'IH0': {'Z': {'value': \"cyrix's\"}},\n",
      "                           'value': 'cyrix'}}},\n",
      "       'Z': {'value': 'sires'},\n",
      "       'value': 'scire'},\n",
      " 'S': {'ER0': {'value': 'seiser'},\n",
      "       'K': {'AH0': {'N': {'Z': {'value': \"syscon's\"}, 'value': 'syscon'}}},\n",
      "       'T': {'R': {'AE2': {'N': {'value': 'systran'}}}}},\n",
      " 'T': {'AH0': {'D': {'value': 'sighted'},\n",
      "               'L': {'ER0': {'value': 'sitler'}},\n",
      "               'P': {'L': {'AE2': {'Z': {'AH0': {'M': {'value': 'cytoplasm'}}}}}},\n",
      "               'S': {'value': 'situs'}},\n",
      "       'ER0': {'value': 'seiter'},\n",
      "       'IH0': {'D': {'value': 'sighted'},\n",
      "               'NG': {'Z': {'value': 'sightings'}, 'value': 'sighting'}},\n",
      "       'L': {'ER0': {'value': 'sitler'}},\n",
      "       'OW0': {'JH': {'EH0': {'N': {'value': 'cytogen'}}},\n",
      "               'T': {'EH2': {'K': {'S': {'value': 'cytotechs'},\n",
      "                                   'value': 'cytotech'}}}},\n",
      "       'S': {'IY1': {'ER0': {'Z': {'value': 'sightseers'},\n",
      "                             'value': 'sightseer'},\n",
      "                     'IH0': {'NG': {'value': 'sightseeing'}},\n",
      "                     'R': {'Z': {'value': 'sightseers'},\n",
      "                           'value': 'sight-seer'},\n",
      "                     'value': 'sightsee'},\n",
      "             'value': 'sights'},\n",
      "       'Z': {'IH0': {'NG': {'ER0': {'value': 'seitzinger'}}}},\n",
      "       'value': 'sight'},\n",
      " 'TH': {'value': 'scythe'},\n",
      " 'V': {'ER0': {'T': {'value': 'seivert'}, 'value': 'siver'}},\n",
      " 'W': {'ER0': {'T': {'value': 'seiwert'}}},\n",
      " 'Z': {'AH0': {'B': {'AH0': {'L': {'value': 'sizeable'}}},\n",
      "               'Z': {'value': 'sizes'}},\n",
      "       'D': {'value': 'sized'},\n",
      "       'ER0': {'value': 'sizer'},\n",
      "       'IH0': {'NG': {'value': 'sizing'}, 'Z': {'value': 'sizes'}},\n",
      "       'L': {'AH2': {'V': {'value': 'sizelove'}},\n",
      "             'ER0': {'value': 'sizeler'}},\n",
      "       'M': {'AO0': {'R': {'value': 'sisemore'}},\n",
      "             'IH0': {'K': {'value': 'seismic'}}},\n",
      "       'value': \"tsai's\"},\n",
      " 'value': 'sigh'}\n"
     ]
    }
   ],
   "source": [
    "pprint.pprint(cmuj['S']['AY1'])"
   ]
  },
  {
   "cell_type": "code",
   "execution_count": 184,
   "metadata": {
    "collapsed": false
   },
   "outputs": [
    {
     "data": {
      "text/plain": [
       "'sigh'"
      ]
     },
     "execution_count": 184,
     "metadata": {},
     "output_type": "execute_result"
    }
   ],
   "source": [
    "cmuj['S']['AY1']['value']"
   ]
  },
  {
   "cell_type": "code",
   "execution_count": null,
   "metadata": {
    "collapsed": true
   },
   "outputs": [],
   "source": []
  }
 ],
 "metadata": {
  "kernelspec": {
   "display_name": "Python 3",
   "language": "python",
   "name": "python3"
  },
  "language_info": {
   "codemirror_mode": {
    "name": "ipython",
    "version": 3
   },
   "file_extension": ".py",
   "mimetype": "text/x-python",
   "name": "python",
   "nbconvert_exporter": "python",
   "pygments_lexer": "ipython3",
   "version": "3.4.3"
  }
 },
 "nbformat": 4,
 "nbformat_minor": 0
}
